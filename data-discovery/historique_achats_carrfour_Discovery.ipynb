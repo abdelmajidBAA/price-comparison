{
 "cells": [
  {
   "cell_type": "code",
   "execution_count": 1,
   "metadata": {},
   "outputs": [
    {
     "name": "stdout",
     "output_type": "stream",
     "text": [
      "<class 'pandas.core.frame.DataFrame'>\n",
      "RangeIndex: 100000 entries, 0 to 99999\n",
      "Data columns (total 7 columns):\n",
      " #   Column       Non-Null Count   Dtype \n",
      "---  ------       --------------   ----- \n",
      " 0   client_id    100000 non-null  int64 \n",
      " 1   commande_id  100000 non-null  int64 \n",
      " 2   produit      100000 non-null  object\n",
      " 3   marque       100000 non-null  object\n",
      " 4   taille       100000 non-null  object\n",
      " 5   prix         100000 non-null  object\n",
      " 6   date_achat   100000 non-null  object\n",
      "dtypes: int64(2), object(5)\n",
      "memory usage: 5.3+ MB\n"
     ]
    },
    {
     "data": {
      "text/plain": [
       "(None,\n",
       "    client_id  commande_id                   produit          marque  \\\n",
       " 0       1001         4930    Chamia aux fruits secs       SHEHRAZAD   \n",
       " 1       1001         4930           SCHWEPPES Tonic       SCHWEPPES   \n",
       " 2       1001         4930  Eau minérale MARWA 0.75L           MARWA   \n",
       " 3       1001         4930                BOGA cidre            BOGA   \n",
       " 4       9267           68               Sauce pizza  LE PETIT PARIS   \n",
       " \n",
       "                   taille       prix  date_achat  \n",
       " 0       La boite de 800g  24 dt 800  2024-03-27  \n",
       " 1   La bouteille de 0.5L     1dt855  2024-03-27  \n",
       " 2  La bouteille de 0.75L     0dt460  2024-03-27  \n",
       " 3     La canette de 24cl     1dt160  2024-03-27  \n",
       " 4       La boite de 400g   2 dt 840  2024-03-19  )"
      ]
     },
     "execution_count": 1,
     "metadata": {},
     "output_type": "execute_result"
    }
   ],
   "source": [
    "import pandas as pd\n",
    "\n",
    "# Load the dataset\n",
    "file_path = r\"C:\\Users\\amena\\OneDrive - ESPRIT\\Bureau\\data\\historique_achats_100000.csv\"\n",
    "df = pd.read_csv(file_path)\n",
    "\n",
    "# Display basic information about the dataset\n",
    "df.info(), df.head()\n"
   ]
  },
  {
   "cell_type": "code",
   "execution_count": 4,
   "metadata": {},
   "outputs": [
    {
     "data": {
      "text/plain": [
       "0\n",
       "1001                           0\n",
       "4930                         948\n",
       "Chamia aux fruits secs      1026\n",
       "SHEHRAZAD                   2004\n",
       "La boite de 800g            2137\n",
       "24 dt 800                   3302\n",
       "2024-03-27                  3327\n",
       "None                      101660\n",
       "None                      102191\n",
       "None                      102206\n",
       "None                      102206\n",
       "None                      102206\n",
       "None                      102206\n",
       "None                      102206\n",
       "dtype: int64"
      ]
     },
     "execution_count": 4,
     "metadata": {},
     "output_type": "execute_result"
    }
   ],
   "source": [
    "# Analyse des valeurs nulles\n",
    "missing_values = df.isnull().sum()\n",
    "missing_values"
   ]
  },
  {
   "cell_type": "code",
   "execution_count": 5,
   "metadata": {},
   "outputs": [
    {
     "data": {
      "text/plain": [
       "0\n",
       "1001                       8443\n",
       "4930                      12071\n",
       "Chamia aux fruits secs     3040\n",
       "SHEHRAZAD                   626\n",
       "La boite de 800g           1049\n",
       "24 dt 800                  1495\n",
       "2024-03-27                  186\n",
       "None                        135\n",
       "None                         15\n",
       "None                          1\n",
       "None                          1\n",
       "None                          1\n",
       "None                          1\n",
       "None                         23\n",
       "dtype: int64"
      ]
     },
     "execution_count": 5,
     "metadata": {},
     "output_type": "execute_result"
    }
   ],
   "source": [
    "\n",
    "\n",
    "# Analyse des valeurs uniques pour détecter d'éventuelles erreurs d'écriture\n",
    "unique_values = df.nunique()\n",
    "unique_values"
   ]
  },
  {
   "cell_type": "code",
   "execution_count": 6,
   "metadata": {},
   "outputs": [
    {
     "data": {
      "text/html": [
       "<div>\n",
       "<style scoped>\n",
       "    .dataframe tbody tr th:only-of-type {\n",
       "        vertical-align: middle;\n",
       "    }\n",
       "\n",
       "    .dataframe tbody tr th {\n",
       "        vertical-align: top;\n",
       "    }\n",
       "\n",
       "    .dataframe thead th {\n",
       "        text-align: right;\n",
       "    }\n",
       "</style>\n",
       "<table border=\"1\" class=\"dataframe\">\n",
       "  <thead>\n",
       "    <tr style=\"text-align: right;\">\n",
       "      <th></th>\n",
       "      <th>1001</th>\n",
       "      <th>4930</th>\n",
       "      <th>Chamia aux fruits secs</th>\n",
       "      <th>SHEHRAZAD</th>\n",
       "      <th>La boite de 800g</th>\n",
       "      <th>24 dt 800</th>\n",
       "      <th>2024-03-27</th>\n",
       "      <th>None</th>\n",
       "      <th>None</th>\n",
       "      <th>None</th>\n",
       "      <th>None</th>\n",
       "      <th>None</th>\n",
       "      <th>None</th>\n",
       "      <th>None</th>\n",
       "    </tr>\n",
       "  </thead>\n",
       "  <tbody>\n",
       "    <tr>\n",
       "      <th>count</th>\n",
       "      <td>102233</td>\n",
       "      <td>101285</td>\n",
       "      <td>101207</td>\n",
       "      <td>100229</td>\n",
       "      <td>100096</td>\n",
       "      <td>98931</td>\n",
       "      <td>98906</td>\n",
       "      <td>573</td>\n",
       "      <td>42</td>\n",
       "      <td>27</td>\n",
       "      <td>27</td>\n",
       "      <td>27</td>\n",
       "      <td>27</td>\n",
       "      <td>27</td>\n",
       "    </tr>\n",
       "    <tr>\n",
       "      <th>unique</th>\n",
       "      <td>8443</td>\n",
       "      <td>12071</td>\n",
       "      <td>3040</td>\n",
       "      <td>626</td>\n",
       "      <td>1049</td>\n",
       "      <td>1495</td>\n",
       "      <td>186</td>\n",
       "      <td>135</td>\n",
       "      <td>15</td>\n",
       "      <td>1</td>\n",
       "      <td>1</td>\n",
       "      <td>1</td>\n",
       "      <td>1</td>\n",
       "      <td>23</td>\n",
       "    </tr>\n",
       "    <tr>\n",
       "      <th>top</th>\n",
       "      <td>Produit italien</td>\n",
       "      <td>19 dt 863</td>\n",
       "      <td>Huile d'olive extra vierge</td>\n",
       "      <td>DÉLICE DANONE</td>\n",
       "      <td>Le paquet de 500g</td>\n",
       "      <td>0 dt 410</td>\n",
       "      <td>2024-06-20</td>\n",
       "      <td>acide citrique (E330)</td>\n",
       "      <td>conservateur (E202)</td>\n",
       "      <td>arômes naturels</td>\n",
       "      <td>colorants (E160a-E160e)</td>\n",
       "      <td>vitamines A-C-E.\"</td>\n",
       "      <td>3dt190</td>\n",
       "      <td>2024-04-14</td>\n",
       "    </tr>\n",
       "    <tr>\n",
       "      <th>freq</th>\n",
       "      <td>91</td>\n",
       "      <td>90</td>\n",
       "      <td>1128</td>\n",
       "      <td>1947</td>\n",
       "      <td>4518</td>\n",
       "      <td>1773</td>\n",
       "      <td>2124</td>\n",
       "      <td>27</td>\n",
       "      <td>27</td>\n",
       "      <td>27</td>\n",
       "      <td>27</td>\n",
       "      <td>27</td>\n",
       "      <td>27</td>\n",
       "      <td>3</td>\n",
       "    </tr>\n",
       "  </tbody>\n",
       "</table>\n",
       "</div>"
      ],
      "text/plain": [
       "0                  1001       4930      Chamia aux fruits secs      SHEHRAZAD  \\\n",
       "count            102233     101285                      101207         100229   \n",
       "unique             8443      12071                        3040            626   \n",
       "top     Produit italien  19 dt 863  Huile d'olive extra vierge  DÉLICE DANONE   \n",
       "freq                 91         90                        1128           1947   \n",
       "\n",
       "0        La boite de 800g 24 dt 800  2024-03-27                    None  \\\n",
       "count              100096     98931       98906                     573   \n",
       "unique               1049      1495         186                     135   \n",
       "top     Le paquet de 500g  0 dt 410  2024-06-20   acide citrique (E330)   \n",
       "freq                 4518      1773        2124                      27   \n",
       "\n",
       "0                       None              None                      None  \\\n",
       "count                     42                27                        27   \n",
       "unique                    15                 1                         1   \n",
       "top      conservateur (E202)   arômes naturels   colorants (E160a-E160e)   \n",
       "freq                      27                27                        27   \n",
       "\n",
       "0                     None    None        None  \n",
       "count                   27      27          27  \n",
       "unique                   1       1          23  \n",
       "top      vitamines A-C-E.\"  3dt190  2024-04-14  \n",
       "freq                    27      27           3  "
      ]
     },
     "execution_count": 6,
     "metadata": {},
     "output_type": "execute_result"
    }
   ],
   "source": [
    "\n",
    "\n",
    "# Analyse des statistiques descriptives pour détecter les valeurs aberrantes\n",
    "\n",
    "stats = df.describe()\n",
    "stats"
   ]
  },
  {
   "cell_type": "markdown",
   "metadata": {},
   "source": []
  },
  {
   "cell_type": "markdown",
   "metadata": {},
   "source": [
    "Données propres (pas de valeurs manquantes).\n",
    "Base de clients et de commandes relativement variée.\n",
    "Présence d’un bon nombre de marques et de tailles, ce qui peut suggérer un marché diversifié.\n",
    "Les commandes sont bien distribuées entre les clients, ce qui peut être intéressant pour analyser les habitudes d’achat."
   ]
  },
  {
   "cell_type": "code",
   "execution_count": 7,
   "metadata": {},
   "outputs": [
    {
     "data": {
      "image/png": "[encoded data removed]",
      "text/plain": [
       "<Figure size 800x600 with 1 Axes>"
      ]
     },
     "metadata": {},
     "output_type": "display_data"
    }
   ],
   "source": [
    "import matplotlib.pyplot as plt\n",
    "import seaborn as sns\n",
    "import re\n",
    "\n",
    "# Fonction pour convertir le prix en format numérique\n",
    "def convert_price(price):\n",
    "    # Extraire tous les chiffres et les joindre pour former un nombre décimal\n",
    "    numbers = re.findall(r'\\d+', str(price))\n",
    "    if len(numbers) == 2:\n",
    "        return float(numbers[0]) + float(numbers[1]) / 1000  # Convertir en Dinar.TroisDécimales\n",
    "    elif len(numbers) == 1:\n",
    "        return float(numbers[0])\n",
    "    return None\n",
    "\n",
    "# Appliquer la conversion\n",
    "df[\"prix_numerique\"] = df[\"prix\"].apply(convert_price)\n",
    "\n",
    "# Filtrer les valeurs valides\n",
    "df_valid_prices = df.dropna(subset=[\"prix_numerique\"])\n",
    "\n",
    "# Tracer le boxplot\n",
    "plt.figure(figsize=(8, 6))\n",
    "sns.boxplot(y=df_valid_prices[\"prix_numerique\"])\n",
    "plt.title(\"Boxplot des prix pour détecter les valeurs aberrantes\")\n",
    "plt.ylabel(\"Prix (DT)\")\n",
    "plt.show()\n"
   ]
  },
  {
   "cell_type": "markdown",
   "metadata": {},
   "source": [
    "La distribution des prix est fortement asymétrique, avec une majorité de valeurs faibles et quelques prix extrêmement élevés.n/\n",
    "Ces valeurs aberrantes méritent d’être analysées plus en détail pour éviter qu'elles influencent négativement les statistiques et les modèles prédictifs."
   ]
  },
  {
   "cell_type": "code",
   "execution_count": 8,
   "id": "9a32c165",
   "metadata": {},
   "outputs": [
    {
     "name": "stdout",
     "output_type": "stream",
     "text": [
      "\n",
      "📌 Basic Information\n",
      "\n",
      "Shape of dataset: (102234, 1)\n",
      "client_id,commande_id,produit,marque,taille,prix,date_achat    object\n",
      "dtype: object\n",
      "\n",
      "📌 Total Duplicate Rows: 1228\n",
      "\n",
      "\n",
      "📌 Numerical Summary\n",
      "\n",
      "       client_id,commande_id,produit,marque,taille,prix,date_achat\n",
      "count                                              102234         \n",
      "unique                                             101006         \n",
      "top                                       Produit italien         \n",
      "freq                                                   91         \n",
      "\n",
      "📌 Categorical Summary\n",
      "\n",
      "       client_id,commande_id,produit,marque,taille,prix,date_achat\n",
      "count                                              102234         \n",
      "unique                                             101006         \n",
      "top                                       Produit italien         \n",
      "freq                                                   91         \n",
      "\n",
      "📌 Outlier Detection\n",
      "\n",
      "\n",
      "📌 Data Quality Checks\n",
      "\n",
      "client_id,commande_id,produit,marque,taille,prix,date_achat: 101006 unique values\n"
     ]
    },
    {
     "data": {
      "image/png": "[encoded data removed]",
      "text/plain": [
       "<Figure size 1000x500 with 1 Axes>"
      ]
     },
     "metadata": {},
     "output_type": "display_data"
    },
    {
     "name": "stdout",
     "output_type": "stream",
     "text": [
      "\n",
      "📌 Final Data Discovery Report\n",
      "\n",
      "╒════╤═════════════════════════════════════════════════════════════╤════════╤══════════════════════╤═════════════════╤════════════╕\n",
      "│    │ Column Name                                                 │ Type   │ Missing Values (%)   │   Unique Values │ Outliers   │\n",
      "╞════╪═════════════════════════════════════════════════════════════╪════════╪══════════════════════╪═════════════════╪════════════╡\n",
      "│  0 │ client_id,commande_id,produit,marque,taille,prix,date_achat │ object │ 0.00%                │          101006 │ N/A        │\n",
      "╘════╧═════════════════════════════════════════════════════════════╧════════╧══════════════════════╧═════════════════╧════════════╛\n"
     ]
    }
   ],
   "source": [
    "\n",
    "# Enhanced Data Discovery Report with Error Handling\n",
    "\n",
    "import pandas as pd\n",
    "import matplotlib.pyplot as plt\n",
    "import seaborn as sns\n",
    "from tabulate import tabulate\n",
    "\n",
    "# Load dataset with error handling for inconsistent rows\n",
    "file_path = r\"C:\\Users\\amena\\OneDrive - ESPRIT\\Bureau\\data\\historique_achats_100000.csv\" # Ensure this file exists in your environment\n",
    "df = pd.read_csv(file_path, delimiter=\";\", encoding=\"utf-8\", low_memory=False, on_bad_lines='skip')\n",
    "df.columns = df.columns.str.strip()  # Clean column names\n",
    "\n",
    "# 1. Basic Information\n",
    "print(\"\\n📌 Basic Information\\n\")\n",
    "print(f\"Shape of dataset: {df.shape}\")\n",
    "print(df.dtypes)\n",
    "\n",
    "# 2. Missing Values Analysis\n",
    "missing_values = df.isnull().sum()\n",
    "missing_values = missing_values[missing_values > 0]\n",
    "if not missing_values.empty:\n",
    "    print(\"\\n📌 Missing Values\\n\")\n",
    "    print(missing_values)\n",
    "\n",
    "# 3. Duplicate Detection\n",
    "duplicate_count = df.duplicated().sum()\n",
    "print(f\"\\n📌 Total Duplicate Rows: {duplicate_count}\\n\")\n",
    "\n",
    "# 4. Statistical Summary\n",
    "print(\"\\n📌 Numerical Summary\\n\")\n",
    "print(df.describe())\n",
    "\n",
    "print(\"\\n📌 Categorical Summary\\n\")\n",
    "print(df.describe(include=['object']))\n",
    "\n",
    "# 5. Outlier Detection using IQR method\n",
    "numerical_cols = df.select_dtypes(include=['number']).columns\n",
    "outliers = {}\n",
    "for col in numerical_cols:\n",
    "    Q1 = df[col].quantile(0.25)\n",
    "    Q3 = df[col].quantile(0.75)\n",
    "    IQR = Q3 - Q1\n",
    "    outlier_count = ((df[col] < (Q1 - 1.5 * IQR)) | (df[col] > (Q3 + 1.5 * IQR))).sum()\n",
    "    outliers[col] = outlier_count\n",
    "\n",
    "print(\"\\n📌 Outlier Detection\\n\")\n",
    "for col, count in outliers.items():\n",
    "    print(f\"{col}: {count} outliers detected\")\n",
    "\n",
    "# 6. Data Quality Checks - Spotting Potential Formatting Issues\n",
    "print(\"\\n📌 Data Quality Checks\\n\")\n",
    "for col in df.columns:\n",
    "    if df[col].dtype == 'object':\n",
    "        unique_values = df[col].nunique()\n",
    "        print(f\"{col}: {unique_values} unique values\")\n",
    "\n",
    "# 7. Visualizations of Distributions\n",
    "plt.figure(figsize=(10, 5))\n",
    "sns.heatmap(df.isnull(), cbar=False, cmap='viridis')\n",
    "plt.title(\"Missing Values Heatmap\")\n",
    "plt.show()\n",
    "\n",
    "for col in numerical_cols:\n",
    "    plt.figure(figsize=(6, 4))\n",
    "    sns.boxplot(x=df[col])\n",
    "    plt.title(f\"Boxplot of {col}\")\n",
    "    plt.show()\n",
    "\n",
    "# Generate a structured report similar to the screenshot\n",
    "data_discovery_report = pd.DataFrame(columns=[\n",
    "    \"Column Name\", \"Type\", \"Missing Values (%)\", \"Unique Values\", \"Outliers\"\n",
    "])\n",
    "\n",
    "for col in df.columns:\n",
    "    col_type = df[col].dtype  # Get data type\n",
    "    missing_percent = (df[col].isnull().sum() / len(df)) * 100  # Missing value percentage\n",
    "    unique_values = df[col].nunique()  # Count of unique values\n",
    "    outlier_count = outliers.get(col, \"N/A\")  # Get outlier count if numeric\n",
    "\n",
    "    data_discovery_report = pd.concat([data_discovery_report, pd.DataFrame([{\n",
    "        \"Column Name\": col,\n",
    "        \"Type\": col_type,\n",
    "        \"Missing Values (%)\": f\"{missing_percent:.2f}%\",\n",
    "        \"Unique Values\": unique_values,\n",
    "        \"Outliers\": outlier_count\n",
    "    }])], ignore_index=True)\n",
    "\n",
    "# Display the structured report\n",
    "formatted_report = tabulate(data_discovery_report, headers=\"keys\", tablefmt=\"fancy_grid\")\n",
    "print(\"\\n📌 Final Data Discovery Report\\n\")\n",
    "print(formatted_report)\n"
   ]
  }
 ],
 "metadata": {
  "kernelspec": {
   "display_name": "Python 3",
   "language": "python",
   "name": "python3"
  },
  "language_info": {
   "codemirror_mode": {
    "name": "ipython",
    "version": 3
   },
   "file_extension": ".py",
   "mimetype": "text/x-python",
   "name": "python",
   "nbconvert_exporter": "python",
   "pygments_lexer": "ipython3",
   "version": "3.10.0"
  }
 },
 "nbformat": 4,
 "nbformat_minor": 2
}
