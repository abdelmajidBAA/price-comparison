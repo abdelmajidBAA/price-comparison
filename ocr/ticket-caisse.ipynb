{
 "cells": [
  {
   "cell_type": "code",
   "execution_count": 19,
   "metadata": {},
   "outputs": [],
   "source": [
    "import pytesseract\n",
    "from PIL import Image\n",
    "import re\n",
    "import pandas as pd\n"
   ]
  },
  {
   "cell_type": "markdown",
   "metadata": {},
   "source": [
    "#### Load image"
   ]
  },
  {
   "cell_type": "code",
   "execution_count": 20,
   "metadata": {},
   "outputs": [],
   "source": [
    "\n",
    "image_path = r\"C:\\Users\\abdel\\OneDrive\\Desktop\\New folder (3)\\ocr\\1244.jpeg\"\n"
   ]
  },
  {
   "cell_type": "markdown",
   "metadata": {},
   "source": [
    "#### Open image using PIL"
   ]
  },
  {
   "cell_type": "code",
   "execution_count": 21,
   "metadata": {},
   "outputs": [],
   "source": [
    "\n",
    "image = Image.open(image_path)\n"
   ]
  },
  {
   "cell_type": "markdown",
   "metadata": {},
   "source": [
    "#### Perform OCR on the image"
   ]
  },
  {
   "cell_type": "code",
   "execution_count": null,
   "metadata": {},
   "outputs": [],
   "source": [
    "extracted_text = pytesseract.image_to_string(image)\n"
   ]
  },
  {
   "cell_type": "markdown",
   "metadata": {},
   "source": [
    "#### Split extracted text into lines"
   ]
  },
  {
   "cell_type": "code",
   "execution_count": null,
   "metadata": {},
   "outputs": [],
   "source": [
    "\n",
    "lines = extracted_text.split(\"\\n\")\n"
   ]
  },
  {
   "cell_type": "code",
   "execution_count": null,
   "metadata": {},
   "outputs": [],
   "source": [
    "products = []\n",
    "prix_unitaire = []\n",
    "prix_total = []"
   ]
  },
  {
   "cell_type": "markdown",
   "metadata": {},
   "source": [
    "#### Track sections manually"
   ]
  },
  {
   "cell_type": "code",
   "execution_count": 25,
   "metadata": {},
   "outputs": [],
   "source": [
    "\n",
    "collecting_products = True\n",
    "collecting_unitaire = False\n",
    "collecting_total = False\n",
    "\n",
    "for line in lines:\n",
    "    line = line.strip()\n",
    "    if not line:\n",
    "        continue\n",
    "    \n",
    "    # Skip store header information\n",
    "    if line.startswith(\"MG PROXI ARIANA ESSOGHRA\") or line.startswith(\"AVENUE FETHI ZQUHEIR\"):\n",
    "        continue\n",
    "    \n",
    "    # Remove unwanted symbols\n",
    "    line = re.sub(r'[^0-9a-zA-Z., ]', '', line)\n",
    "    \n",
    "    # Detect transition to unit prices section\n",
    "    if collecting_products and all(c.isdigit() or c in \",.\" for c in line.replace(\" \", \"\")):\n",
    "        collecting_products = False\n",
    "        collecting_unitaire = True\n",
    "        prix_unitaire.append(line)  # Capture the first price immediately\n",
    "        continue  \n",
    "    \n",
    "    # Detect transition to total prices section\n",
    "    elif collecting_unitaire and len(prix_unitaire) >= len(products):\n",
    "        collecting_unitaire = False\n",
    "        collecting_total = True\n",
    "    \n",
    "    # Collect data based on section\n",
    "    if collecting_products:\n",
    "        products.append(line)\n",
    "    elif collecting_unitaire:\n",
    "        prix_unitaire.append(line)\n",
    "    elif collecting_total:\n",
    "        prix_total.append(line)\n"
   ]
  },
  {
   "cell_type": "markdown",
   "metadata": {},
   "source": [
    "#### Ensure all lists have the same length"
   ]
  },
  {
   "cell_type": "code",
   "execution_count": 26,
   "metadata": {},
   "outputs": [],
   "source": [
    "\n",
    "\n",
    "max_length = max(len(products), len(prix_unitaire), len(prix_total))\n",
    "products += [\"\" for _ in range(max_length - len(products))]\n",
    "prix_unitaire += [\"\" for _ in range(max_length - len(prix_unitaire))]\n",
    "prix_total += [\"\" for _ in range(max_length - len(prix_total))]\n"
   ]
  },
  {
   "cell_type": "markdown",
   "metadata": {},
   "source": [
    "\n",
    "#### Create DataFrame"
   ]
  },
  {
   "cell_type": "code",
   "execution_count": null,
   "metadata": {},
   "outputs": [
    {
     "name": "stdout",
     "output_type": "stream",
     "text": [
      "           Product Prix Unitaire Prix Total\n",
      "0    1 SAUCE PIZZA         2.200      2.200\n",
      "1   1 CREME FRATCH         3.120      3.120\n",
      "2   1 PATE PAPILLO         1.120      1,120\n",
      "3     MARGARINE 20         2.990      2.990\n",
      "4     MORCEAUX THO         3.490      3.490\n",
      "5   1 CREAME A TAR         7,900      7.500\n",
      "6     TIMBRE 100 M         0,100      0.100\n",
      "7   1 Y.A.B VANILL         0.960      0.960\n",
      "8    1 BOIS.LACTEE         0.980     0.980 \n",
      "9   2 FROMAGE GJUT         0.890      1.780\n",
      "10                                       at\n",
      "11   1 SAUCE PIZZA         2.200      2.200\n",
      "12  1 CREME FRATCH         3.120      3.120\n",
      "13  1 PATE PAPILLO         1.120      1,120\n",
      "14    MARGARINE 20         2.990      2.990\n",
      "15    MORCEAUX THO         3.490      3.490\n",
      "16  1 CREAME A TAR         7,900      7.500\n",
      "17    TIMBRE 100 M         0,100      0.100\n",
      "18  1 Y.A.B VANILL         0.960      0.960\n",
      "19   1 BOIS.LACTEE         0.980     0.980 \n",
      "20  2 FROMAGE GJUT         0.890      1.780\n",
      "21   1 SAUCE PIZZA         2.200         at\n",
      "22  1 CREME FRATCH         3.120      2.200\n",
      "23  1 PATE PAPILLO         1.120      3.120\n",
      "24    MARGARINE 20         2.990      1,120\n",
      "25    MORCEAUX THO         3.490      2.990\n",
      "26  1 CREAME A TAR         7,900      3.490\n",
      "27    TIMBRE 100 M         0,100      7.500\n",
      "28  1 Y.A.B VANILL         0.960      0.100\n",
      "29   1 BOIS.LACTEE         0.980      0.960\n",
      "30  2 FROMAGE GJUT         0.890     0.980 \n",
      "31                                    1.780\n",
      "32                                       at\n"
     ]
    }
   ],
   "source": [
    "\n",
    "receipt_df = pd.DataFrame({\n",
    "    \"Product\": products,\n",
    "    \"Prix Unitaire\": prix_unitaire,\n",
    "    \"Prix Total\": prix_total\n",
    "})\n",
    "\n",
    "print(receipt_df)\n"
   ]
  }
 ],
 "metadata": {
  "kernelspec": {
   "display_name": "Python 3",
   "language": "python",
   "name": "python3"
  },
  "language_info": {
   "codemirror_mode": {
    "name": "ipython",
    "version": 3
   },
   "file_extension": ".py",
   "mimetype": "text/x-python",
   "name": "python",
   "nbconvert_exporter": "python",
   "pygments_lexer": "ipython3",
   "version": "3.12.2"
  }
 },
 "nbformat": 4,
 "nbformat_minor": 2
}
