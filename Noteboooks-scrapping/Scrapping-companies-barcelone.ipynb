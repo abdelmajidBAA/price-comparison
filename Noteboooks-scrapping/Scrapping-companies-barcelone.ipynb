{
 "cells": [
  {
   "cell_type": "markdown",
   "id": "f3f84d26",
   "metadata": {},
   "source": [
    "### Importation des modules "
   ]
  },
  {
   "cell_type": "code",
   "execution_count": null,
   "id": "4ffee1ae",
   "metadata": {},
   "outputs": [],
   "source": [
    "from selenium import webdriver\n",
    "from selenium.webdriver.common.by import By\n",
    "from selenium.webdriver.support.ui import WebDriverWait\n",
    "from selenium.webdriver.support import expected_conditions as EC\n",
    "\n",
    "import pandas as pd\n",
    "\n",
    "from datetime import datetime, timedelta\n",
    "import time\n",
    "import os"
   ]
  },
  {
   "cell_type": "markdown",
   "id": "b9c6a374",
   "metadata": {},
   "source": [
    "### Configuration des options du navigateur Chrome"
   ]
  },
  {
   "cell_type": "code",
   "execution_count": null,
   "id": "91014630",
   "metadata": {},
   "outputs": [],
   "source": [
    "def start_driver():\n",
    "    options = webdriver.ChromeOptions()\n",
    "    options.add_argument(\"--disable-extensions\")\n",
    "    options.add_argument(\"--disable-gpu\")\n",
    "    options.add_argument(\"--no-sandbox\")\n",
    "    options.add_argument(\"--disable-dev-shm-usage\")\n",
    "       \n",
    "    driver = webdriver.Chrome(options=options)\n",
    "    return driver "
   ]
  },
  {
   "cell_type": "markdown",
   "id": "8908ab38",
   "metadata": {},
   "source": [
    "#### Lancement du navigateur avec les paramètres définis"
   ]
  },
  {
   "cell_type": "code",
   "execution_count": null,
   "id": "fec902cc",
   "metadata": {},
   "outputs": [],
   "source": [
    "driver = start_driver()"
   ]
  },
  {
   "cell_type": "markdown",
   "id": "3a1c4aa3",
   "metadata": {},
   "source": [
    "#### Définition du chemin de sauvegarde des résultats"
   ]
  },
  {
   "cell_type": "code",
   "execution_count": null,
   "id": "f08f726f",
   "metadata": {},
   "outputs": [],
   "source": [
    "output_path = r\"C:\\Users\\elaas\\Desktop\\Comparateur de prix\"\n",
    "output_file = os.path.join(output_path, \"Barcelone_Tunis_100_Vols.csv\")"
   ]
  },
  {
   "cell_type": "markdown",
   "id": "c851f677",
   "metadata": {},
   "source": [
    "#### Vérification et création du dossier de sortie si nécessaire"
   ]
  },
  {
   "cell_type": "code",
   "execution_count": null,
   "id": "b2ce06df",
   "metadata": {},
   "outputs": [],
   "source": [
    "if not os.path.exists(output_path):\n",
    "    os.makedirs(output_path)"
   ]
  },
  {
   "cell_type": "markdown",
   "id": "2ccb39c2",
   "metadata": {},
   "source": [
    "#### Modèle d'URL pour récupérer les vols depuis Trip.com"
   ]
  },
  {
   "cell_type": "code",
   "execution_count": null,
   "id": "dc25b7ab",
   "metadata": {},
   "outputs": [],
   "source": [
    "url_template = (\n",
    "    \"https://fr.trip.com/flights/showfarefirst?\"\n",
    "    \"lowpricesource=searchform&triptype=RT&class=Y&quantity=1&childqty=0&babyqty=0\"\n",
    "    \"&dcity=bcn&acity=tun&ddate={}&rdate={}&dcityName=Barcelone&acityName=Tunis&locale=fr-FR&curr=EUR\"\n",
    ")"
   ]
  },
  {
   "cell_type": "markdown",
   "id": "a8237fe4",
   "metadata": {},
   "source": [
    "#### Définition de la période de recherche des vols"
   ]
  },
  {
   "cell_type": "code",
   "execution_count": null,
   "id": "7c74ccb4",
   "metadata": {},
   "outputs": [],
   "source": [
    "start_date = datetime(2025, 2, 10)\n",
    "end_date = datetime(2025, 6, 30)\n",
    "\n",
    "dates = [(start_date + timedelta(days=i)).strftime(\"%Y-%m-%d\") for i in range((end_date - start_date).days + 1)]"
   ]
  },
  {
   "cell_type": "markdown",
   "id": "9d1df93f",
   "metadata": {},
   "source": [
    "#### Initialisation de la liste pour stocker les données des vols"
   ]
  },
  {
   "cell_type": "code",
   "execution_count": null,
   "id": "10b94bd8",
   "metadata": {},
   "outputs": [],
   "source": [
    "\n",
    "all_flights_data = []"
   ]
  },
  {
   "cell_type": "markdown",
   "id": "4be31ae0",
   "metadata": {},
   "source": [
    "#### Boucle pour parcourir chaque date et récupérer les vols"
   ]
  },
  {
   "cell_type": "code",
   "execution_count": null,
   "id": "cf40543c",
   "metadata": {},
   "outputs": [],
   "source": [
    "\n",
    "for departure_date in dates:\n",
    "    if len(all_flights_data) >= 100: \n",
    "        break\n",
    "\n",
    "    return_date = (datetime.strptime(departure_date, \"%Y-%m-%d\") + timedelta(days=3)).strftime(\"%Y-%m-%d\")\n",
    "    url = url_template.format(departure_date, return_date)\n",
    "\n",
    "    try:\n",
    "        print(f\"Recherche des vols pour le {departure_date}...\")\n",
    "          \n",
    "        \n",
    "        if driver is None or len(driver.window_handles) == 0:\n",
    "            print(\"Fenêtre fermée, redémarrage du navigateur...\")\n",
    "            driver = start_driver()\n",
    "    \n",
    "        \n",
    "        driver.get(url)\n",
    "        time.sleep(10) \n",
    "          \n",
    "        wait = WebDriverWait(driver, 30)\n",
    "        flights = wait.until(EC.presence_of_all_elements_located((By.CLASS_NAME, \"result-item\")))\n",
    "\n",
    "        print(f\"{len(flights)} vols trouvés pour le {departure_date}\")\n",
    "        \n",
    " \n",
    "        for flight in flights:\n",
    "            if len(all_flights_data) >= 100:  \n",
    "                break\n",
    "\n",
    "            try:\n",
    "                airline = flight.find_element(By.CLASS_NAME, \"flights-name\").text.strip()\n",
    "                departure_time = flight.find_elements(By.CSS_SELECTOR, \"[data-testid^='flight-time']\")[0].text.strip()\n",
    "                arrival_time = flight.find_elements(By.CSS_SELECTOR, \"[data-testid^='flight-time']\")[1].text.strip()\n",
    "                duration = flight.find_element(By.CSS_SELECTOR, \"[data-testid='flightInfoDuration']\").text.strip()\n",
    "                price_eur = flight.find_element(By.CSS_SELECTOR, \"[data-price]\").text.strip().replace(\"€\", \"\").strip()\n",
    "                \n",
    "                \n",
    "                all_flights_data.append({\n",
    "                    \"Compagnie\": airline,\n",
    "                    \"Pays de départ\": \"Espagne\",\n",
    "                    \"Pays de destination\": \"Tunisie\",\n",
    "                    \"Date de départ\": departure_date,\n",
    "                    \"Heure de départ\": departure_time,\n",
    "                    \"Date de retour\": return_date,\n",
    "                    \"Heure d'arrivée\": arrival_time,\n",
    "                    \"Durée\": duration,\n",
    "                    \"Prix (€)\": f\"€ {price_eur}\",\n",
    "                })\n",
    "\n",
    "                print(f\"Vol trouvé : {departure_date} → {return_date} - {airline} - €{price_eur}\")\n",
    "\n",
    "            except Exception as e:\n",
    "                print(f\"Erreur d'extraction du vol {departure_date} : {e}\")\n",
    "\n",
    "    except Exception as e:\n",
    "        print(f\"Problème avec la date {departure_date} : {e}\")"
   ]
  },
  {
   "cell_type": "markdown",
   "id": "091acc14",
   "metadata": {},
   "source": [
    "#### Vérification si des vols ont été collectés"
   ]
  },
  {
   "cell_type": "code",
   "execution_count": null,
   "id": "defc6175",
   "metadata": {},
   "outputs": [],
   "source": [
    "\n",
    "if len(all_flights_data) > 0:\n",
    "    print(f\"Nombre de vols collectés : {len(all_flights_data)}\")   "
   ]
  },
  {
   "cell_type": "markdown",
   "id": "415ab55f",
   "metadata": {},
   "source": [
    "#### Création d'un DataFrame Pandas avec les données collectées"
   ]
  },
  {
   "cell_type": "code",
   "execution_count": null,
   "id": "3ddc85a7",
   "metadata": {},
   "outputs": [],
   "source": [
    "df = pd.DataFrame(all_flights_data, columns=[\n",
    "        \"Compagnie\", \"Pays de départ\", \"Pays de destination\",\n",
    "        \"Date de départ\", \"Heure de départ\", \"Date de retour\",\n",
    "        \"Heure d'arrivée\", \"Durée\", \"Prix (€)\"\n",
    "    ])\n"
   ]
  },
  {
   "cell_type": "markdown",
   "id": "0598ad71",
   "metadata": {},
   "source": [
    "#### Sauvegarde des données dans un fichier CSV"
   ]
  },
  {
   "cell_type": "code",
   "execution_count": null,
   "id": "ad6f1e68",
   "metadata": {},
   "outputs": [],
   "source": [
    "df.to_csv(output_file, index=False, encoding=\"utf-8-sig\")\n",
    "if os.path.exists(output_file):\n",
    "        print(f\"Fichier sauvegardé avec succès : {output_file}\")\n",
    "else:\n",
    "        print(\"Échec de la sauvegarde du fichier.\")\n",
    "else:\n",
    "print(\"Aucun vol trouvé. Le fichier ne sera pas créé.\")"
   ]
  },
  {
   "cell_type": "markdown",
   "id": "16632a0e",
   "metadata": {},
   "source": [
    "### Fermeture du navigateur à la fin de l'exécution du script"
   ]
  },
  {
   "cell_type": "code",
   "execution_count": null,
   "id": "d570fe08",
   "metadata": {},
   "outputs": [],
   "source": [
    "driver.quit()"
   ]
  }
 ],
 "metadata": {
  "kernelspec": {
   "display_name": "Python 3 (ipykernel)",
   "language": "python",
   "name": "python3"
  },
  "language_info": {
   "codemirror_mode": {
    "name": "ipython",
    "version": 3
   },
   "file_extension": ".py",
   "mimetype": "text/x-python",
   "name": "python",
   "nbconvert_exporter": "python",
   "pygments_lexer": "ipython3",
   "version": "3.11.5"
  }
 },
 "nbformat": 4,
 "nbformat_minor": 5
}
