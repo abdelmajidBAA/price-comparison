{
 "cells": [
  {
   "cell_type": "markdown",
   "metadata": {},
   "source": [
    "# Install dependencies if not installed"
   ]
  },
  {
   "cell_type": "markdown",
   "metadata": {},
   "source": [
    "( !pip install selenium webdriver-manager pandas )"
   ]
  },
  {
   "cell_type": "code",
   "execution_count": 1,
   "metadata": {},
   "outputs": [],
   "source": [
    "from selenium import webdriver\n",
    "from selenium.webdriver.edge.options import Options\n",
    "from selenium.webdriver.common.by import By\n",
    "from selenium.webdriver.support.ui import WebDriverWait\n",
    "from selenium.webdriver.support import expected_conditions as EC\n",
    "from bs4 import BeautifulSoup\n",
    "from urllib.parse import urljoin\n",
    "import time\n"
   ]
  },
  {
   "cell_type": "markdown",
   "metadata": {},
   "source": [
    "#### Configure Selenium WebDriver"
   ]
  },
  {
   "cell_type": "code",
   "execution_count": 4,
   "metadata": {},
   "outputs": [],
   "source": [
    "\n",
    "options = Options()\n",
    "options.add_argument(\"--headless\")  \n",
    "options.add_argument(\"--disable-gpu\")\n",
    "options.add_argument(\"--window-size=1920,1080\")\n",
    "options.add_argument(\"user-agent=Mozilla/5.0 (Windows NT 10.0; Win64; x64) AppleWebKit/537.36 (KHTML, like Gecko) Chrome/91.0.4472.124 Safari/537.36\")\n",
    "\n",
    "driver = webdriver.Edge(options=options)\n",
    "\n",
    "base_url = \"https://courses.monoprix.tn/lac/2-tous-les-produits\"\n",
    "\n",
    "save_directory = r\"C:\\Users\\abdel\\OneDrive\\Desktop\\w\\monoprix_products\"\n",
    "os.makedirs(save_directory, exist_ok=True)\n"
   ]
  },
  {
   "cell_type": "markdown",
   "metadata": {},
   "source": [
    "# List products category links to scrape"
   ]
  },
  {
   "cell_type": "code",
   "execution_count": null,
   "metadata": {},
   "outputs": [],
   "source": [
    "\n",
    "category_links = {\n",
    "    \"Epicerie Sucrée\": \"https://courses.monoprix.tn/lac/2-tous-les-produits?q=Cat%C3%A9gories-Epicerie+Sucr%C3%A9e\",\n",
    "    \"Boissons\": \"https://courses.monoprix.tn/lac/2-tous-les-produits?q=Cat%C3%A9gories-Boissons\",\n",
    "    \"Crèmerie et surgelé\": \"https://courses.monoprix.tn/lac/2-tous-les-produits?q=Cat%C3%A9gories-Cr%C3%A8merie+et+surgel%C3%A9\",\n",
    "    \"Hygiène\":\"https://courses.monoprix.tn/lac/2-tous-les-produits?q=Cat%C3%A9gories-Hygi%C3%A8ne+%26+Beaut%C3%A9\",\n",
    "    \"Epicerie Salée\": \"https://courses.monoprix.tn/lac/2-tous-les-produits?q=Cat%C3%A9gories-Epicerie+Sal%C3%A9e\",\n",
    "}\n"
   ]
  },
  {
   "cell_type": "markdown",
   "metadata": {},
   "source": [
    "#### Loop through each category"
   ]
  },
  {
   "cell_type": "code",
   "execution_count": null,
   "metadata": {},
   "outputs": [
    {
     "name": "stdout",
     "output_type": "stream",
     "text": [
      "📌 Scraping Category: Epicerie Sucrée (https://courses.monoprix.tn/lac/2-tous-les-produits?q=Cat%C3%A9gories-Epicerie+Sucr%C3%A9e)\n"
     ]
    }
   ],
   "source": [
    "\n",
    "\n",
    "for category, link in category_links.items():\n",
    "    print(f\"📌 Scraping Category: {category} ({link})\")\n",
    "    driver.get(link)\n",
    "\n",
    "    product_data = []  \n",
    "\n",
    "    while True:\n",
    "       \n",
    "        try:\n",
    "            WebDriverWait(driver, 10).until(\n",
    "                EC.presence_of_element_located((By.ID, \"js-product-list\"))\n",
    "            )\n",
    "        except:\n",
    "            print(f\"⚠️ Skipping category {category} due to loading issue.\")\n",
    "            break\n",
    "\n",
    "       \n",
    "        soup = BeautifulSoup(driver.page_source, \"html.parser\")\n",
    "\n",
    "     \n",
    "        product_section = soup.find(\"div\", id=\"js-product-list\")\n",
    "        products = product_section.find_all(\"div\", class_=\"product-miniature\") if product_section else []\n",
    "\n",
    "        for product in products:\n",
    "            name_tag = product.select_one(\".product-title a\")\n",
    "            price_tag = product.select_one(\".price\")\n",
    "            image_tag = product.select_one(\".product-thumbnail img\")\n",
    "\n",
    "            name = name_tag.text.strip() if name_tag else \"N/A\"\n",
    "            price = price_tag.text.strip() if price_tag else \"N/A\"\n",
    "            image = image_tag[\"src\"] if image_tag else \"N/A\"\n",
    "            product_link = urljoin(base_url, name_tag[\"href\"]) if name_tag else \"N/A\"\n",
    "\n",
    "            product_data.append({\n",
    "                \"Category\": category,\n",
    "                \"Name\": name,\n",
    "                \"Price\": price,\n",
    "                \"Image\": image,\n",
    "                \"Product Link\": product_link\n",
    "            })\n",
    "\n",
    "       \n",
    "        try:\n",
    "            next_button = driver.find_element(By.CSS_SELECTOR, \".next.js-search-link\")\n",
    "            if \"disabled\" in next_button.get_attribute(\"class\"):\n",
    "                break  \n",
    "            next_button.click()\n",
    "            time.sleep(2) \n",
    "        except:\n",
    "            break \n",
    "\n",
    "    # Save category products to CSV\n",
    "    if product_data:\n",
    "        df = pd.DataFrame(product_data)\n",
    "        category_filename = f\"{save_directory}/{category.replace(' ', '_')}.csv\"\n",
    "        df.to_csv(category_filename, index=False, encoding=\"utf-8-sig\")\n",
    "        print(f\"✅ Saved {category} products to: {category_filename}\")\n",
    "    else:\n",
    "        print(f\"⚠️ No products found for {category}, skipping CSV save.\")\n",
    "\n",
    "\n",
    "driver.quit()\n",
    "\n",
    "print(\"\\n✅ Scraping completed! All categories saved separately.\")\n"
   ]
  }
 ],
 "metadata": {
  "kernelspec": {
   "display_name": "Python 3",
   "language": "python",
   "name": "python3"
  },
  "language_info": {
   "codemirror_mode": {
    "name": "ipython",
    "version": 3
   },
   "file_extension": ".py",
   "mimetype": "text/x-python",
   "name": "python",
   "nbconvert_exporter": "python",
   "pygments_lexer": "ipython3",
   "version": "3.12.2"
  }
 },
 "nbformat": 4,
 "nbformat_minor": 2
}
