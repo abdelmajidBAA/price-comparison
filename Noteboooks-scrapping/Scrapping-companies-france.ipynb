{
 "cells": [
  {
   "cell_type": "markdown",
   "id": "3fe01408",
   "metadata": {},
   "source": [
    "#### Importation des modules "
   ]
  },
  {
   "cell_type": "code",
   "execution_count": null,
   "id": "f7b2083c",
   "metadata": {},
   "outputs": [],
   "source": [
    "\n",
    "from selenium import webdriver\n",
    "from selenium.webdriver.common.by import By\n",
    "from selenium.webdriver.support.ui import WebDriverWait\n",
    "from selenium.webdriver.support import expected_conditions as EC\n",
    "\n",
    "import pandas as pd\n",
    "\n",
    "from datetime import datetime, timedelta\n",
    "import time\n",
    "import os"
   ]
  },
  {
   "cell_type": "markdown",
   "id": "7520bd23",
   "metadata": {},
   "source": [
    "### Configuration des options du navigateur Chrome"
   ]
  },
  {
   "cell_type": "code",
   "execution_count": null,
   "id": "a216d050",
   "metadata": {},
   "outputs": [],
   "source": [
    "\n",
    "def start_driver():\n",
    "    options = webdriver.ChromeOptions()\n",
    "    options.add_argument(\"--disable-extensions\")\n",
    "    options.add_argument(\"--disable-gpu\")\n",
    "    options.add_argument(\"--no-sandbox\")\n",
    "    options.add_argument(\"--disable-dev-shm-usage\")\n",
    "       \n",
    "    driver = webdriver.Chrome(options=options)\n",
    "    return driver "
   ]
  },
  {
   "cell_type": "markdown",
   "id": "a3980142",
   "metadata": {},
   "source": [
    "### Lancement du navigateur avec les paramètres définis"
   ]
  },
  {
   "cell_type": "code",
   "execution_count": null,
   "id": "4fee62ba",
   "metadata": {},
   "outputs": [],
   "source": [
    "\n",
    "driver = start_driver()"
   ]
  },
  {
   "cell_type": "markdown",
   "id": "415e96ce",
   "metadata": {},
   "source": [
    "### Définition du chemin de sauvegarde des résultats"
   ]
  },
  {
   "cell_type": "code",
   "execution_count": null,
   "id": "7db4228f",
   "metadata": {},
   "outputs": [],
   "source": [
    "\n",
    "output_path = r\"C:\\Users\\elaas\\Desktop\\Comparateur de prix\"\n",
    "output_file = os.path.join(output_path, \"Paris_Tunis_100_Vols.csv\")"
   ]
  },
  {
   "cell_type": "markdown",
   "id": "202dc9cf",
   "metadata": {},
   "source": [
    "### Vérification et création du dossier de sortie si nécessaire"
   ]
  },
  {
   "cell_type": "code",
   "execution_count": null,
   "id": "343e6335",
   "metadata": {},
   "outputs": [],
   "source": [
    "\n",
    "if not os.path.exists(output_path):\n",
    "    os.makedirs(output_path)"
   ]
  },
  {
   "cell_type": "markdown",
   "id": "c3375bce",
   "metadata": {},
   "source": [
    "### Modèle d'URL pour récupérer les vols depuis Trip.com"
   ]
  },
  {
   "cell_type": "code",
   "execution_count": null,
   "id": "9a1ea9e5",
   "metadata": {},
   "outputs": [],
   "source": [
    "\n",
    "url_template = (\n",
    "    \"https://fr.trip.com/flights/showfarefirst?\"\n",
    "    \"lowpricesource=searchform&triptype=RT&class=Y&quantity=1&childqty=0&babyqty=0\"\n",
    "    \"&dcity=par&acity=tun&ddate={}&rdate={}&dcityName=Paris&acityName=Tunis&locale=fr-FR&curr=EUR\"\n",
    ")"
   ]
  },
  {
   "cell_type": "markdown",
   "id": "b08f375e",
   "metadata": {},
   "source": [
    "### Définition de la période de recherche des vols"
   ]
  },
  {
   "cell_type": "code",
   "execution_count": null,
   "id": "13103707",
   "metadata": {},
   "outputs": [],
   "source": [
    "\n",
    "start_date = datetime(2025, 2, 10)\n",
    "end_date = datetime(2025, 7, 31)  \n",
    "\n",
    "dates = [(start_date + timedelta(days=i)).strftime(\"%Y-%m-%d\") for i in range((end_date - start_date).days + 1)]"
   ]
  },
  {
   "cell_type": "markdown",
   "id": "6c806163",
   "metadata": {},
   "source": [
    "### Initialisation de la liste pour stocker les données des vols"
   ]
  },
  {
   "cell_type": "code",
   "execution_count": null,
   "id": "8a9d2dd8",
   "metadata": {},
   "outputs": [],
   "source": [
    "\n",
    "all_flights_data = []"
   ]
  },
  {
   "cell_type": "markdown",
   "id": "88436746",
   "metadata": {},
   "source": [
    "### Boucle pour parcourir chaque date et récupérer les vols"
   ]
  },
  {
   "cell_type": "code",
   "execution_count": null,
   "id": "a7e16df0",
   "metadata": {},
   "outputs": [],
   "source": [
    "\n",
    "for departure_date in dates:\n",
    "    if len(all_flights_data) >= 100:  \n",
    "        break\n",
    "\n",
    "    return_date = (datetime.strptime(departure_date, \"%Y-%m-%d\") + timedelta(days=7)).strftime(\"%Y-%m-%d\")\n",
    "    url = url_template.format(departure_date, return_date)\n",
    "\n",
    "    try:\n",
    "        print(f\"Recherche des vols pour le {departure_date}...\")\n",
    "        \n",
    "        if driver is None or len(driver.window_handles) == 0:\n",
    "            print(\"Fenêtre fermée, redémarrage du navigateur...\")\n",
    "            driver = start_driver()\n",
    "         \n",
    "        driver.get(url)\n",
    "        time.sleep(10) \n",
    "       \n",
    "        wait = WebDriverWait(driver, 35)\n",
    "        flights = wait.until(EC.presence_of_all_elements_located((By.CLASS_NAME, \"result-item\")))\n",
    "\n",
    "        print(f\"{len(flights)} vols trouvés pour le {departure_date}\")\n",
    "       \n",
    "        for flight in flights:\n",
    "            if len(all_flights_data) >= 100: \n",
    "                break\n",
    "\n",
    "            try:\n",
    "                airline = flight.find_element(By.CLASS_NAME, \"flights-name\").text.strip()\n",
    "                departure_time = flight.find_elements(By.CSS_SELECTOR, \"[data-testid^='flight-time']\")[0].text.strip()\n",
    "                arrival_time = flight.find_elements(By.CSS_SELECTOR, \"[data-testid^='flight-time']\")[1].text.strip()\n",
    "                duration = flight.find_element(By.CSS_SELECTOR, \"[data-testid='flightInfoDuration']\").text.strip()\n",
    "                price_eur = flight.find_element(By.CSS_SELECTOR, \"[data-price]\").text.strip().replace(\"€\", \"\").strip()\n",
    "  \n",
    "                all_flights_data.append({\n",
    "                    \"Compagnie\": airline,\n",
    "                    \"Pays de départ\": \"France\",\n",
    "                    \"Pays de destination\": \"Tunisie\",\n",
    "                    \"Date de départ\": departure_date,\n",
    "                    \"Heure de départ\": departure_time,\n",
    "                    \"Date de retour\": return_date,  \n",
    "                    \"Heure d'arrivée\": arrival_time,\n",
    "                    \"Durée\": duration,\n",
    "                    \"Prix (€)\": f\"€ {price_eur}\",  \n",
    "                })\n",
    "\n",
    "                print(f\"Vol trouvé : {departure_date} → {return_date} - {airline} - €{price_eur}\")\n",
    "\n",
    "            except Exception as e:\n",
    "                print(f\"Erreur d'extraction du vol {departure_date} : {e}\")\n",
    "\n",
    "    except Exception as e:\n",
    "        print(f\"Problème avec la date {departure_date} : {e}\")"
   ]
  },
  {
   "cell_type": "markdown",
   "id": "1ac29254",
   "metadata": {},
   "source": [
    "### Vérification si des vols ont été collectés"
   ]
  },
  {
   "cell_type": "code",
   "execution_count": null,
   "id": "78265159",
   "metadata": {},
   "outputs": [],
   "source": [
    "\n",
    "if len(all_flights_data) > 0:\n",
    "    print(f\"Nombre de vols collectés : {len(all_flights_data)}\")"
   ]
  },
  {
   "cell_type": "markdown",
   "id": "bb3b6f5c",
   "metadata": {},
   "source": [
    "### Création d'un DataFrame Pandas avec les données collectées"
   ]
  },
  {
   "cell_type": "code",
   "execution_count": null,
   "id": "1f640925",
   "metadata": {},
   "outputs": [],
   "source": [
    "\n",
    "df = pd.DataFrame(all_flights_data, columns=[\n",
    "        \"Compagnie\", \"Pays de départ\", \"Pays de destination\",\n",
    "        \"Date de départ\", \"Heure de départ\", \"Date de retour\",\n",
    "        \"Heure d'arrivée\", \"Durée\", \"Prix (€)\"\n",
    "    ])\n"
   ]
  },
  {
   "cell_type": "markdown",
   "id": "76ab12ce",
   "metadata": {},
   "source": [
    "### Sauvegarde des données dans un fichier CSV"
   ]
  },
  {
   "cell_type": "code",
   "execution_count": null,
   "id": "52bec4a7",
   "metadata": {},
   "outputs": [],
   "source": [
    "\n",
    "df.to_csv(output_file, index=False, encoding=\"utf-8-sig\")\n",
    "\n",
    "if os.path.exists(output_file):\n",
    "        print(f\"Fichier sauvegardé avec succès : {output_file}\")\n",
    "else:\n",
    "        print(\"Échec de la sauvegarde du fichier.\")\n",
    "else:\n",
    "print(\"Aucun vol trouvé. Le fichier ne sera pas créé.\")"
   ]
  },
  {
   "cell_type": "markdown",
   "id": "da4fddfc",
   "metadata": {},
   "source": [
    "### Fermeture du navigateur à la fin de l'exécution du script"
   ]
  },
  {
   "cell_type": "code",
   "execution_count": null,
   "id": "a049e975",
   "metadata": {},
   "outputs": [],
   "source": [
    "\n",
    "driver.quit()"
   ]
  }
 ],
 "metadata": {
  "kernelspec": {
   "display_name": "Python 3 (ipykernel)",
   "language": "python",
   "name": "python3"
  },
  "language_info": {
   "codemirror_mode": {
    "name": "ipython",
    "version": 3
   },
   "file_extension": ".py",
   "mimetype": "text/x-python",
   "name": "python",
   "nbconvert_exporter": "python",
   "pygments_lexer": "ipython3",
   "version": "3.11.5"
  }
 },
 "nbformat": 4,
 "nbformat_minor": 5
}
