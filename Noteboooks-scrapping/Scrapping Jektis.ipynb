{
 "cells": [
  {
   "attachments": {},
   "cell_type": "markdown",
   "metadata": {},
   "source": [
    "# Install dependencies if not installed\n"
   ]
  },
  {
   "attachments": {},
   "cell_type": "markdown",
   "metadata": {},
   "source": [
    "( !pip install selenium webdriver-manager pandas )\n"
   ]
  },
  {
   "cell_type": "code",
   "execution_count": null,
   "metadata": {},
   "outputs": [],
   "source": [
    "import pandas as pd\n",
    "import time\n",
    "from selenium import webdriver\n",
    "from selenium.webdriver.chrome.service import Service\n",
    "from selenium.webdriver.chrome.options import Options\n",
    "from selenium.webdriver.common.by import By\n",
    "from webdriver_manager.chrome import ChromeDriverManager"
   ]
  },
  {
   "attachments": {},
   "cell_type": "markdown",
   "metadata": {},
   "source": [
    "# Configure Selenium WebDriver\n"
   ]
  },
  {
   "cell_type": "code",
   "execution_count": null,
   "metadata": {},
   "outputs": [],
   "source": [
    "options = Options()\n",
    "options.add_argument(\"--headless\")  # Run in headless mode\n",
    "options.add_argument(\"--disable-gpu\")\n",
    "options.add_argument(\"--window-size=1920,1080\")\n"
   ]
  },
  {
   "cell_type": "code",
   "execution_count": null,
   "metadata": {},
   "outputs": [],
   "source": [
    "service = Service(ChromeDriverManager().install())\n",
    "driver = webdriver.Chrome(service=service, options=options)"
   ]
  },
  {
   "attachments": {},
   "cell_type": "markdown",
   "metadata": {},
   "source": [
    "# List of Jektis Travel hotel pages to scrape\n"
   ]
  },
  {
   "cell_type": "code",
   "execution_count": null,
   "metadata": {},
   "outputs": [],
   "source": [
    "urls = {\n",
    "    \"Sousse\": \"https://www.jektistravel.com/hotels-en-tunisie/Sousse\",\n",
    "    \"Djerba\": \"https://www.jektistravel.com/hotels-en-tunisie/Djerba\",\n",
    "    \"Monastir\": \"https://www.jektistravel.com/hotels-en-tunisie/Monastir\",\n",
    "    \"Hammamet\": \"https://www.jektistravel.com/hotels-en-tunisie/Hammamet\"\n",
    "}"
   ]
  },
  {
   "attachments": {},
   "cell_type": "markdown",
   "metadata": {},
   "source": [
    "# Function to scrape hotels from a given URL\n"
   ]
  },
  {
   "cell_type": "code",
   "execution_count": null,
   "metadata": {},
   "outputs": [],
   "source": [
    "def scrape_hotels(url, city):\n",
    "    driver.get(url)\n",
    "    time.sleep(5)  # Allow page to load\n",
    "    \n",
    "    hotels = []\n",
    "    hotel_cards = driver.find_elements(By.CLASS_NAME, \"block-hotel-ville\")\n",
    "    \n",
    "    for card in hotel_cards:\n",
    "        try:\n",
    "            name = card.find_element(By.CLASS_NAME, \"name-voyage\").text.strip()\n",
    "            location = card.find_element(By.CLASS_NAME, \"localisation-voyage\").text.strip()\n",
    "            stars = len(card.find_elements(By.CSS_SELECTOR, \".booking-item-rating-stars .fa-star\"))\n",
    "            \n",
    "            try:\n",
    "                label = card.find_element(By.CLASS_NAME, \"a-partir-de\").text.strip()\n",
    "                amount = card.find_element(By.CLASS_NAME, \"price-voyage\").find_element(By.TAG_NAME, \"span\").text.strip()\n",
    "                price = f\"{label} {amount} TND\"\n",
    "            except:\n",
    "                price = \"No Price\"\n",
    "            \n",
    "            hotels.append([name, location, stars, price, city])\n",
    "        \n",
    "        except Exception as e:\n",
    "            print(f\"Error extracting data for a hotel in {city}: {e}\")\n",
    "            continue\n",
    "    \n",
    "    return hotels\n"
   ]
  },
  {
   "attachments": {},
   "cell_type": "markdown",
   "metadata": {},
   "source": [
    "# Scrape all cities\n"
   ]
  },
  {
   "cell_type": "code",
   "execution_count": null,
   "metadata": {},
   "outputs": [],
   "source": [
    "all_hotels = []\n",
    "for city, url in urls.items():\n",
    "    print(f\"Scraping hotels in {city}...\")\n",
    "    city_hotels = scrape_hotels(url, city)\n",
    "    all_hotels.extend(city_hotels)"
   ]
  },
  {
   "attachments": {},
   "cell_type": "markdown",
   "metadata": {},
   "source": [
    "# Close WebDriver\n"
   ]
  },
  {
   "cell_type": "code",
   "execution_count": null,
   "metadata": {},
   "outputs": [],
   "source": [
    "driver.quit()\n"
   ]
  },
  {
   "attachments": {},
   "cell_type": "markdown",
   "metadata": {},
   "source": [
    "# Save data to CSV\n"
   ]
  },
  {
   "cell_type": "code",
   "execution_count": null,
   "metadata": {},
   "outputs": [],
   "source": [
    "df = pd.DataFrame(all_hotels, columns=[\"Hotel Name\", \"Location\", \"Stars\", \"Price\", \"City\"])\n",
    "df.to_csv(\"jektis_hotels.csv\", index=False, encoding=\"utf-8\")"
   ]
  },
  {
   "cell_type": "code",
   "execution_count": null,
   "metadata": {},
   "outputs": [],
   "source": [
    "print(f\" Scraping completed! {len(all_hotels)} hotels saved in 'jektis_hotels.csv'.\")\n"
   ]
  },
  {
   "cell_type": "code",
   "execution_count": null,
   "metadata": {},
   "outputs": [],
   "source": []
  }
 ],
 "metadata": {
  "kernelspec": {
   "display_name": "Python 3",
   "language": "python",
   "name": "python3"
  },
  "language_info": {
   "name": "python",
   "version": "3.12.0 (tags/v3.12.0:0fb18b0, Oct  2 2023, 13:03:39) [MSC v.1935 64 bit (AMD64)]"
  },
  "orig_nbformat": 4,
  "vscode": {
   "interpreter": {
    "hash": "02b0e7ac3aaba4ea60286342942cb2708f72c3a30296fdce3c6cc3deba16a480"
   }
  }
 },
 "nbformat": 4,
 "nbformat_minor": 2
}
