{
 "cells": [
  {
   "cell_type": "code",
   "execution_count": 7,
   "metadata": {},
   "outputs": [],
   "source": [
    "from selenium import webdriver\n",
    "from selenium.webdriver.common.by import By\n",
    "from selenium.webdriver.common.keys import Keys\n",
    "from selenium.webdriver.edge.service import Service\n",
    "from selenium.webdriver.edge.options import Options\n",
    "from bs4 import BeautifulSoup\n",
    "import pandas as pd\n",
    "import time\n",
    "import re\n"
   ]
  },
  {
   "cell_type": "markdown",
   "metadata": {},
   "source": [
    "Setup Selenium WebDriver"
   ]
  },
  {
   "cell_type": "code",
   "execution_count": null,
   "metadata": {},
   "outputs": [],
   "source": [
    "options = Options()\n",
    "options.add_argument(\"--headless\")  # Run in headless mode\n",
    "options.add_argument(\"--disable-gpu\")\n",
    "options.add_argument(\"--no-sandbox\")\n",
    "options.add_argument(\"--disable-dev-shm-usage\")\n"
   ]
  },
  {
   "cell_type": "code",
   "execution_count": 9,
   "metadata": {},
   "outputs": [],
   "source": [
    "driver = webdriver.Edge(service=Service(r\"C:\\edgedriver_win64\\msedgedriver.exe\"), options=options)\n"
   ]
  },
  {
   "cell_type": "markdown",
   "metadata": {},
   "source": [
    "Access URL"
   ]
  },
  {
   "cell_type": "code",
   "execution_count": null,
   "metadata": {},
   "outputs": [],
   "source": [
    "base_url = \"https://www.geonames.org/search.html?q=hotel&country=TN&startRow=\"\n",
    "start_row = 0\n",
    "all_data = []\n",
    "\n"
   ]
  },
  {
   "cell_type": "markdown",
   "metadata": {},
   "source": [
    "# Function to clean latitude and longitude and scrap all the data "
   ]
  },
  {
   "cell_type": "code",
   "execution_count": null,
   "metadata": {},
   "outputs": [],
   "source": [
    "\n",
    "def clean_coordinates(coord):\n",
    "    return re.sub(r'[^0-9\\.\\-]', ' ', coord).strip()\n",
    "\n",
    "while True:\n",
    "    url = base_url + str(start_row)\n",
    "    driver.get(url)\n",
    "    time.sleep(3)  \n",
    "    \n",
    "    soup = BeautifulSoup(driver.page_source, \"html.parser\")\n",
    "    table = soup.find(\"table\", class_=\"restable\")\n",
    "    \n",
    "    if table:\n",
    "        rows = table.find_all(\"tr\")[1:] \n",
    "        for row in rows:\n",
    "            cols = row.find_all(\"td\")\n",
    "            if len(cols) >= 5:\n",
    "                name = cols[1].text.strip()\n",
    "                country = cols[2].text.strip()\n",
    "                feature_class = cols[3].text.strip()\n",
    "                latitude = clean_coordinates(cols[4].text.strip())\n",
    "                longitude = clean_coordinates(cols[5].text.strip())\n",
    "                all_data.append([name, country, feature_class, latitude, longitude])\n",
    "    \n",
    "    \n",
    "    next_button = soup.find(\"a\", string=\"next >\")\n",
    "    if next_button:\n",
    "        start_row += 50  \n",
    "    else:\n",
    "        break  \n",
    "\n",
    "\n",
    "driver.quit()\n",
    "\n"
   ]
  },
  {
   "cell_type": "markdown",
   "metadata": {},
   "source": [
    "Save as DataFrame"
   ]
  },
  {
   "cell_type": "code",
   "execution_count": null,
   "metadata": {},
   "outputs": [],
   "source": [
    "columns = [\"Name\", \"Country\", \"Feature Class\", \"Latitude\", \"Longitude\"]\n",
    "df = pd.DataFrame(all_data, columns=columns)\n",
    "df.to_csv(\"hotels_tunisia_cleaned.csv\", index=False)"
   ]
  },
  {
   "cell_type": "code",
   "execution_count": null,
   "metadata": {},
   "outputs": [],
   "source": []
  }
 ],
 "metadata": {
  "kernelspec": {
   "display_name": "Python 3",
   "language": "python",
   "name": "python3"
  },
  "language_info": {
   "codemirror_mode": {
    "name": "ipython",
    "version": 3
   },
   "file_extension": ".py",
   "mimetype": "text/x-python",
   "name": "python",
   "nbconvert_exporter": "python",
   "pygments_lexer": "ipython3",
   "version": "3.10.0"
  }
 },
 "nbformat": 4,
 "nbformat_minor": 2
}
